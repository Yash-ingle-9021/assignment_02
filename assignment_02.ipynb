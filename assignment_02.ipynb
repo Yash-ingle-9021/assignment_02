{
 "cells": [
  {
   "cell_type": "code",
   "execution_count": 1,
   "metadata": {},
   "outputs": [
    {
     "name": "stdout",
     "output_type": "stream",
     "text": [
      "2nd Feb :- ASSIGNMENT_02\n"
     ]
    }
   ],
   "source": [
    "print(\"2nd Feb :- ASSIGNMENT_02\")"
   ]
  },
  {
   "cell_type": "code",
   "execution_count": 1,
   "metadata": {},
   "outputs": [
    {
     "name": "stdout",
     "output_type": "stream",
     "text": [
      "Q_1_ANS :- 1. when we can Fetch some data in a list,set,dict then we use loop   2. loop concept contineously run when condition does not false andw= when condition is false then loop is exit (loop is stop)   3. for loop get condition then run (work) and for loop alrady know length   4. while loop check condition then run (work) \n"
     ]
    }
   ],
   "source": [
    "print(\"Q_1_ANS :- 1. when we can Fetch some data in a list,set,dict then we use loop   2. loop concept contineously run when condition does not false andw= when condition is false then loop is exit (loop is stop)   3. for loop get condition then run (work) and for loop alrady know length   4. while loop check condition then run (work) \")"
   ]
  },
  {
   "cell_type": "code",
   "execution_count": 7,
   "metadata": {},
   "outputs": [
    {
     "name": "stdout",
     "output_type": "stream",
     "text": [
      "EX :- For Loop\n",
      "36\n"
     ]
    }
   ],
   "source": [
    "print(\"EX :- For Loop\")\n",
    "l = [1,2,3,4,5,6,7,8]\n",
    "\n",
    "for i in l:\n",
    "    s = sum(l)\n",
    "print(s)\n"
   ]
  },
  {
   "cell_type": "code",
   "execution_count": 17,
   "metadata": {},
   "outputs": [
    {
     "name": "stdout",
     "output_type": "stream",
     "text": [
      "EX :- While Loop\n",
      "5 * 1 = 5\n",
      "5 * 2 = 10\n",
      "5 * 3 = 15\n",
      "5 * 4 = 20\n",
      "5 * 5 = 25\n",
      "5 * 6 = 30\n",
      "5 * 7 = 35\n",
      "5 * 8 = 40\n",
      "5 * 9 = 45\n",
      "5 * 10 = 50\n"
     ]
    }
   ],
   "source": [
    "print(\"EX :- While Loop\")\n",
    "\n",
    "n = int(input(\"Enter your number\"))\n",
    "i = 1\n",
    "while i<= 10:\n",
    "    result = i*n\n",
    "    print(n ,\"*\",i,\"=\",result)\n",
    "    i = i+1"
   ]
  },
  {
   "cell_type": "code",
   "execution_count": 20,
   "metadata": {},
   "outputs": [
    {
     "name": "stdout",
     "output_type": "stream",
     "text": [
      "Q_2_ANS :-  \n",
      " Ex :- For Loop\n",
      "Enter natural number :\n"
     ]
    }
   ],
   "source": [
    "print(\"Q_2_ANS :-  \")\n",
    "print(\" Ex :- For Loop\")\n",
    "print(\"Enter natural number :\")\n",
    "n = int(input())\n",
    "if n < 0:\n",
    " for i in range(1,n+1):\n",
    "        sum = sum+1\n",
    " print(\"\\nSum = \",sum)\n",
    "\n"
   ]
  },
  {
   "cell_type": "code",
   "execution_count": 27,
   "metadata": {},
   "outputs": [
    {
     "name": "stdout",
     "output_type": "stream",
     "text": [
      "Q_2_ANS :- Sum of natural number \n",
      " Ex :- Using For Loop\n",
      "\n",
      "Sum =  55\n"
     ]
    }
   ],
   "source": [
    "print(\"Q_2_ANS :- Sum of natural number \")\n",
    "print(\" Ex :- Using For Loop\")\n",
    "\n",
    "n = int(input(\"Enter natural number :\"))\n",
    "if n<0:\n",
    "    print(\"\\nInvalid Input\")\n",
    "else:\n",
    "    sum = 0\n",
    "    for i in range(1,n+1):\n",
    "        sum = sum+i\n",
    "    print(\"\\nSum = \",sum)\n"
   ]
  },
  {
   "cell_type": "code",
   "execution_count": 19,
   "metadata": {},
   "outputs": [
    {
     "name": "stdout",
     "output_type": "stream",
     "text": [
      "Q_3_ANS :-  \n",
      "Bill Per Unit: 2250\n",
      "Bill after adding Line rent: 2699.5\n",
      "Bill after adding Meter rent: 2799.5\n",
      "Total Bill after adding tax: 3247.42\n"
     ]
    }
   ],
   "source": [
    "print(\"Q_3_ANS :-  \")\n",
    "unit = int(input(\"Enter your unit: \"))\n",
    "if unit <= 100:\n",
    "    bill = unit * 4.5\n",
    "elif  unit <= 150:\n",
    "    bill = 450 + ((unit - 100) * 6)\n",
    "elif  unit <= 200:\n",
    "    bill = 450 + 600 + ((unit - 200) * 10)\n",
    "else:\n",
    "    bill = 450 + 600 + 2000 + ((unit - 350) * 20)\n",
    "print(\"Bill Per Unit:\",bill)\n",
    "bill = bill + (unit*1.45)\n",
    "print(\"Bill after adding Line rent:\",bill)\n",
    "bill = bill + 100\n",
    "print(\"Bill after adding Meter rent:\",bill)\n",
    "bill = bill + (bill*0.16)\n",
    "print(\"Total Bill after adding tax:\",bill)"
   ]
  },
  {
   "cell_type": "code",
   "execution_count": 51,
   "metadata": {},
   "outputs": [
    {
     "name": "stdout",
     "output_type": "stream",
     "text": [
      "Q_4_ANS :-  \n",
      "list of a cube \n",
      "[1, 8, 27, 64, 125, 216, 343, 512, 729, 1000, 1331, 1728, 2197, 2744, 3375, 4096, 4913, 5832, 6859, 8000, 9261, 10648, 12167, 13824, 15625, 17576, 19683, 21952, 24389, 27000, 29791, 32768, 35937, 39304, 42875, 46656, 50653, 54872, 59319, 64000, 68921, 74088, 79507, 85184, 91125, 97336, 103823, 110592, 117649, 125000, 132651, 140608, 148877, 157464, 166375, 175616, 185193, 195112, 205379, 216000, 226981, 238328, 250047, 262144, 274625, 287496, 300763, 314432, 328509, 343000, 357911, 373248, 389017, 405224, 421875, 438976, 456533, 474552, 493039, 512000, 531441, 551368, 571787, 592704, 614125, 636056, 658503, 681472, 704969, 729000, 753571, 778688, 804357, 830584, 857375, 884736, 912673, 941192, 970299]\n",
      "list of a cube is divisible by 4 and 5\n",
      "[1000, 8000, 27000, 64000, 125000, 216000, 343000, 512000, 729000]\n"
     ]
    }
   ],
   "source": [
    "print(\"Q_4_ANS :-  \")\n",
    "l = []\n",
    "l1 = []\n",
    "for i in range(1,100):\n",
    "    l.append(i*i*i)  \n",
    "print(\"list of a cube \")  \n",
    "print(l)\n",
    "for j in l:\n",
    " if j %4==0 and j%5==0:\n",
    "   l1.append(j)\n",
    "print(\"list of a cube is divisible by 4 and 5\")\n",
    "print(l1)"
   ]
  },
  {
   "cell_type": "code",
   "execution_count": 58,
   "metadata": {},
   "outputs": [
    {
     "name": "stdout",
     "output_type": "stream",
     "text": [
      "Q_5_ANS :-  \n",
      "Number of vowels in the given string is:  12\n"
     ]
    }
   ],
   "source": [
    "print(\"Q_5_ANS :-  \")\n",
    "string = \"i want to become a data scientist\"\n",
    "count = 0\n",
    "i = 0\n",
    "for i in range(len(string)):\n",
    "    if (\n",
    "        (string[i] == \"a\")\n",
    "        or (string[i] == \"e\")\n",
    "        or (string[i] == \"i\")\n",
    "        or (string[i] == \"o\")\n",
    "        or (string[i] == \"u\")\n",
    "    ):\n",
    "        count += 1\n",
    "\n",
    "print(\"Number of vowels in the given string is: \", count)"
   ]
  },
  {
   "cell_type": "code",
   "execution_count": null,
   "metadata": {},
   "outputs": [],
   "source": []
  }
 ],
 "metadata": {
  "kernelspec": {
   "display_name": "Python 3.10.0 64-bit",
   "language": "python",
   "name": "python3"
  },
  "language_info": {
   "codemirror_mode": {
    "name": "ipython",
    "version": 3
   },
   "file_extension": ".py",
   "mimetype": "text/x-python",
   "name": "python",
   "nbconvert_exporter": "python",
   "pygments_lexer": "ipython3",
   "version": "3.10.0"
  },
  "orig_nbformat": 4,
  "vscode": {
   "interpreter": {
    "hash": "fdeaa5d4d36968213c2982d2716b964fdcbe01a872db07f82123c6518902f24d"
   }
  }
 },
 "nbformat": 4,
 "nbformat_minor": 2
}
